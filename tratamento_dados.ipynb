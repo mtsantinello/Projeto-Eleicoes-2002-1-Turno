{
 "cells": [
  {
   "cell_type": "code",
   "execution_count": 1,
   "metadata": {},
   "outputs": [],
   "source": [
    "import pandas as pd"
   ]
  },
  {
   "cell_type": "code",
   "execution_count": 2,
   "metadata": {},
   "outputs": [],
   "source": [
    "dados_tratados = pd.read_csv('dados_tratados.csv', encoding='latin-1', sep=';')"
   ]
  },
  {
   "cell_type": "code",
   "execution_count": 29,
   "metadata": {},
   "outputs": [
    {
     "data": {
      "text/html": [
       "<div>\n",
       "<style scoped>\n",
       "    .dataframe tbody tr th:only-of-type {\n",
       "        vertical-align: middle;\n",
       "    }\n",
       "\n",
       "    .dataframe tbody tr th {\n",
       "        vertical-align: top;\n",
       "    }\n",
       "\n",
       "    .dataframe thead th {\n",
       "        text-align: right;\n",
       "    }\n",
       "</style>\n",
       "<table border=\"1\" class=\"dataframe\">\n",
       "  <thead>\n",
       "    <tr style=\"text-align: right;\">\n",
       "      <th></th>\n",
       "      <th>DS_ELEICAO</th>\n",
       "      <th>SG_UF</th>\n",
       "      <th>DS_CARGO</th>\n",
       "      <th>NM_URNA_CANDIDATO</th>\n",
       "      <th>SG_PARTIDO</th>\n",
       "      <th>QT_VOTOS_NOMINAIS_VALIDOS</th>\n",
       "      <th>DS_SIT_TOT_TURNO</th>\n",
       "    </tr>\n",
       "  </thead>\n",
       "  <tbody>\n",
       "    <tr>\n",
       "      <th>0</th>\n",
       "      <td>ELEIÇÕES GERAIS ESTADUAIS 2022</td>\n",
       "      <td>CE</td>\n",
       "      <td>Deputado Federal</td>\n",
       "      <td>THIAGO ESMERALDO</td>\n",
       "      <td>PP</td>\n",
       "      <td>0</td>\n",
       "      <td>SUPLENTE</td>\n",
       "    </tr>\n",
       "    <tr>\n",
       "      <th>1</th>\n",
       "      <td>ELEIÇÕES GERAIS ESTADUAIS 2022</td>\n",
       "      <td>CE</td>\n",
       "      <td>Deputado Federal</td>\n",
       "      <td>THIAGO ESMERALDO</td>\n",
       "      <td>PP</td>\n",
       "      <td>2</td>\n",
       "      <td>SUPLENTE</td>\n",
       "    </tr>\n",
       "    <tr>\n",
       "      <th>2</th>\n",
       "      <td>ELEIÇÕES GERAIS ESTADUAIS 2022</td>\n",
       "      <td>CE</td>\n",
       "      <td>Deputado Federal</td>\n",
       "      <td>CORONEL AGINALDO</td>\n",
       "      <td>PL</td>\n",
       "      <td>429</td>\n",
       "      <td>SUPLENTE</td>\n",
       "    </tr>\n",
       "    <tr>\n",
       "      <th>3</th>\n",
       "      <td>ELEIÇÕES GERAIS ESTADUAIS 2022</td>\n",
       "      <td>CE</td>\n",
       "      <td>Deputado Estadual</td>\n",
       "      <td>ADRIANNO IMPERADOR</td>\n",
       "      <td>UNIÃO</td>\n",
       "      <td>2</td>\n",
       "      <td>SUPLENTE</td>\n",
       "    </tr>\n",
       "    <tr>\n",
       "      <th>4</th>\n",
       "      <td>ELEIÇÕES GERAIS ESTADUAIS 2022</td>\n",
       "      <td>CE</td>\n",
       "      <td>Deputado Estadual</td>\n",
       "      <td>ADRIANNO IMPERADOR</td>\n",
       "      <td>UNIÃO</td>\n",
       "      <td>0</td>\n",
       "      <td>SUPLENTE</td>\n",
       "    </tr>\n",
       "  </tbody>\n",
       "</table>\n",
       "</div>"
      ],
      "text/plain": [
       "                       DS_ELEICAO SG_UF           DS_CARGO  \\\n",
       "0  ELEIÇÕES GERAIS ESTADUAIS 2022    CE   Deputado Federal   \n",
       "1  ELEIÇÕES GERAIS ESTADUAIS 2022    CE   Deputado Federal   \n",
       "2  ELEIÇÕES GERAIS ESTADUAIS 2022    CE   Deputado Federal   \n",
       "3  ELEIÇÕES GERAIS ESTADUAIS 2022    CE  Deputado Estadual   \n",
       "4  ELEIÇÕES GERAIS ESTADUAIS 2022    CE  Deputado Estadual   \n",
       "\n",
       "    NM_URNA_CANDIDATO SG_PARTIDO  QT_VOTOS_NOMINAIS_VALIDOS DS_SIT_TOT_TURNO  \n",
       "0    THIAGO ESMERALDO         PP                          0         SUPLENTE  \n",
       "1    THIAGO ESMERALDO         PP                          2         SUPLENTE  \n",
       "2    CORONEL AGINALDO         PL                        429         SUPLENTE  \n",
       "3  ADRIANNO IMPERADOR      UNIÃO                          2         SUPLENTE  \n",
       "4  ADRIANNO IMPERADOR      UNIÃO                          0         SUPLENTE  "
      ]
     },
     "execution_count": 29,
     "metadata": {},
     "output_type": "execute_result"
    }
   ],
   "source": [
    "dados_tratados.head()"
   ]
  },
  {
   "cell_type": "markdown",
   "metadata": {},
   "source": [
    "#### Muitas linhas com informações duplicadas, então agruparei os semelhantes e somarei os votos"
   ]
  },
  {
   "cell_type": "code",
   "execution_count": 9,
   "metadata": {},
   "outputs": [],
   "source": [
    "colunas = ['DS_ELEICAO', 'SG_UF', 'DS_CARGO', 'NM_URNA_CANDIDATO', 'SG_PARTIDO', 'DS_SIT_TOT_TURNO']"
   ]
  },
  {
   "cell_type": "code",
   "execution_count": 51,
   "metadata": {},
   "outputs": [],
   "source": [
    "dado_agrupados_por_nome = pd.DataFrame(dados_tratados.groupby(colunas)['QT_VOTOS_NOMINAIS_VALIDOS'].sum().reset_index())"
   ]
  },
  {
   "cell_type": "code",
   "execution_count": 52,
   "metadata": {},
   "outputs": [
    {
     "data": {
      "text/html": [
       "<div>\n",
       "<style scoped>\n",
       "    .dataframe tbody tr th:only-of-type {\n",
       "        vertical-align: middle;\n",
       "    }\n",
       "\n",
       "    .dataframe tbody tr th {\n",
       "        vertical-align: top;\n",
       "    }\n",
       "\n",
       "    .dataframe thead th {\n",
       "        text-align: right;\n",
       "    }\n",
       "</style>\n",
       "<table border=\"1\" class=\"dataframe\">\n",
       "  <thead>\n",
       "    <tr style=\"text-align: right;\">\n",
       "      <th></th>\n",
       "      <th>DS_ELEICAO</th>\n",
       "      <th>SG_UF</th>\n",
       "      <th>DS_CARGO</th>\n",
       "      <th>NM_URNA_CANDIDATO</th>\n",
       "      <th>SG_PARTIDO</th>\n",
       "      <th>DS_SIT_TOT_TURNO</th>\n",
       "      <th>QT_VOTOS_NOMINAIS_VALIDOS</th>\n",
       "    </tr>\n",
       "  </thead>\n",
       "  <tbody>\n",
       "    <tr>\n",
       "      <th>0</th>\n",
       "      <td>ELEIÇÃO CONSELHO DISTRITAL 2022</td>\n",
       "      <td>PE</td>\n",
       "      <td>Conselheiro Distrital</td>\n",
       "      <td>AILTON JUNIOR</td>\n",
       "      <td>P41</td>\n",
       "      <td>ELEITO</td>\n",
       "      <td>394</td>\n",
       "    </tr>\n",
       "    <tr>\n",
       "      <th>1</th>\n",
       "      <td>ELEIÇÃO CONSELHO DISTRITAL 2022</td>\n",
       "      <td>PE</td>\n",
       "      <td>Conselheiro Distrital</td>\n",
       "      <td>ARTUR CÂNDIDO</td>\n",
       "      <td>P59</td>\n",
       "      <td>NÃO ELEITO</td>\n",
       "      <td>78</td>\n",
       "    </tr>\n",
       "    <tr>\n",
       "      <th>2</th>\n",
       "      <td>ELEIÇÃO CONSELHO DISTRITAL 2022</td>\n",
       "      <td>PE</td>\n",
       "      <td>Conselheiro Distrital</td>\n",
       "      <td>BETO FAUSTINO</td>\n",
       "      <td>P74</td>\n",
       "      <td>NÃO ELEITO</td>\n",
       "      <td>9</td>\n",
       "    </tr>\n",
       "    <tr>\n",
       "      <th>3</th>\n",
       "      <td>ELEIÇÃO CONSELHO DISTRITAL 2022</td>\n",
       "      <td>PE</td>\n",
       "      <td>Conselheiro Distrital</td>\n",
       "      <td>CARINE DINO</td>\n",
       "      <td>P78</td>\n",
       "      <td>ELEITO</td>\n",
       "      <td>112</td>\n",
       "    </tr>\n",
       "    <tr>\n",
       "      <th>4</th>\n",
       "      <td>ELEIÇÃO CONSELHO DISTRITAL 2022</td>\n",
       "      <td>PE</td>\n",
       "      <td>Conselheiro Distrital</td>\n",
       "      <td>CARLOS FLOR</td>\n",
       "      <td>P87</td>\n",
       "      <td>NÃO ELEITO</td>\n",
       "      <td>34</td>\n",
       "    </tr>\n",
       "  </tbody>\n",
       "</table>\n",
       "</div>"
      ],
      "text/plain": [
       "                        DS_ELEICAO SG_UF               DS_CARGO  \\\n",
       "0  ELEIÇÃO CONSELHO DISTRITAL 2022    PE  Conselheiro Distrital   \n",
       "1  ELEIÇÃO CONSELHO DISTRITAL 2022    PE  Conselheiro Distrital   \n",
       "2  ELEIÇÃO CONSELHO DISTRITAL 2022    PE  Conselheiro Distrital   \n",
       "3  ELEIÇÃO CONSELHO DISTRITAL 2022    PE  Conselheiro Distrital   \n",
       "4  ELEIÇÃO CONSELHO DISTRITAL 2022    PE  Conselheiro Distrital   \n",
       "\n",
       "  NM_URNA_CANDIDATO SG_PARTIDO DS_SIT_TOT_TURNO  QT_VOTOS_NOMINAIS_VALIDOS  \n",
       "0     AILTON JUNIOR        P41           ELEITO                        394  \n",
       "1     ARTUR CÂNDIDO        P59       NÃO ELEITO                         78  \n",
       "2     BETO FAUSTINO        P74       NÃO ELEITO                          9  \n",
       "3       CARINE DINO        P78           ELEITO                        112  \n",
       "4       CARLOS FLOR        P87       NÃO ELEITO                         34  "
      ]
     },
     "execution_count": 52,
     "metadata": {},
     "output_type": "execute_result"
    }
   ],
   "source": [
    "dado_agrupados_por_nome.head()"
   ]
  },
  {
   "cell_type": "markdown",
   "metadata": {},
   "source": [
    "#### Mesmo agrupando por nome, os candidatos à presidencia ainda aparecem duplicados, pois tiveram votos em multiplos estados (28)\n",
    "#### 28 estados, pois, na coluna [SG_UF], o estado 'ZZ' representa, na verdade, votos no exterior.\n",
    "#### E no caso da candidata Vera, aparece 29 vezes, pois 28 registros são referentes à candidata à presidencia Vera Lúcia e 1 para uma homonima candiata à deputado estadual"
   ]
  },
  {
   "cell_type": "code",
   "execution_count": 18,
   "metadata": {},
   "outputs": [
    {
     "data": {
      "text/plain": [
       "VERA                   29\n",
       "SIMONE TEBET           28\n",
       "CONSTITUINTE EYMAEL    28\n",
       "FELIPE D AVILA         28\n",
       "JAIR BOLSONARO         28\n",
       "                       ..\n",
       "PAULA DO SOCIAL         1\n",
       "PAULA BORGES            1\n",
       "PAULA BATALHA           1\n",
       "PATRÍCIA RAMOS          1\n",
       "VILELA DO PT            1\n",
       "Name: NM_URNA_CANDIDATO, Length: 25642, dtype: int64"
      ]
     },
     "execution_count": 18,
     "metadata": {},
     "output_type": "execute_result"
    }
   ],
   "source": [
    "dado_agrupados_por_nome['NM_URNA_CANDIDATO'].value_counts()"
   ]
  },
  {
   "cell_type": "markdown",
   "metadata": {},
   "source": [
    "#### Criando um filtro, para verificar se além de candidatos à presidencia, algum outro candidato aparece duplicado"
   ]
  },
  {
   "cell_type": "code",
   "execution_count": 20,
   "metadata": {},
   "outputs": [
    {
     "data": {
      "text/plain": [
       "array(['Conselheiro Distrital', 'Presidente', 'Deputado Estadual',\n",
       "       'Deputado Federal', 'Governador', 'Senador', 'Deputado Distrital'],\n",
       "      dtype=object)"
      ]
     },
     "execution_count": 20,
     "metadata": {},
     "output_type": "execute_result"
    }
   ],
   "source": [
    "dado_agrupados_por_nome.DS_CARGO.unique()"
   ]
  },
  {
   "cell_type": "code",
   "execution_count": 24,
   "metadata": {},
   "outputs": [],
   "source": [
    "candidados_sem_presidente = dado_agrupados_por_nome.query('DS_CARGO !=\"Presidente\"')"
   ]
  },
  {
   "cell_type": "code",
   "execution_count": 26,
   "metadata": {},
   "outputs": [
    {
     "data": {
      "text/plain": [
       "LUIZ CARLOS        6\n",
       "ANA PAULA          6\n",
       "JOÃO PAULO         5\n",
       "ZÉ CARLOS          5\n",
       "ANA CRISTINA       5\n",
       "                  ..\n",
       "PAULA DO SOCIAL    1\n",
       "PAULA BORGES       1\n",
       "PAULA BATALHA      1\n",
       "PATRÍCIA RAMOS     1\n",
       "VILELA DO PT       1\n",
       "Name: NM_URNA_CANDIDATO, Length: 25632, dtype: int64"
      ]
     },
     "execution_count": 26,
     "metadata": {},
     "output_type": "execute_result"
    }
   ],
   "source": [
    "candidados_sem_presidente['NM_URNA_CANDIDATO'].value_counts()"
   ]
  },
  {
   "cell_type": "markdown",
   "metadata": {},
   "source": [
    "#### Como houveram alguns candidatos que apareceram duplicados, verifiquei se não se trata apenas de homonimos. O resultado se mostrou positivo, são apenas pessoas com os mesmos nomes, portanto, o filtro foi bem aplicado."
   ]
  },
  {
   "cell_type": "code",
   "execution_count": 59,
   "metadata": {},
   "outputs": [
    {
     "data": {
      "text/html": [
       "<div>\n",
       "<style scoped>\n",
       "    .dataframe tbody tr th:only-of-type {\n",
       "        vertical-align: middle;\n",
       "    }\n",
       "\n",
       "    .dataframe tbody tr th {\n",
       "        vertical-align: top;\n",
       "    }\n",
       "\n",
       "    .dataframe thead th {\n",
       "        text-align: right;\n",
       "    }\n",
       "</style>\n",
       "<table border=\"1\" class=\"dataframe\">\n",
       "  <thead>\n",
       "    <tr style=\"text-align: right;\">\n",
       "      <th></th>\n",
       "      <th>DS_ELEICAO</th>\n",
       "      <th>SG_UF</th>\n",
       "      <th>DS_CARGO</th>\n",
       "      <th>NM_URNA_CANDIDATO</th>\n",
       "      <th>SG_PARTIDO</th>\n",
       "      <th>DS_SIT_TOT_TURNO</th>\n",
       "      <th>QT_VOTOS_NOMINAIS_VALIDOS</th>\n",
       "    </tr>\n",
       "  </thead>\n",
       "  <tbody>\n",
       "    <tr>\n",
       "      <th>2211</th>\n",
       "      <td>ELEIÇÕES GERAIS ESTADUAIS 2022</td>\n",
       "      <td>AP</td>\n",
       "      <td>Deputado Federal</td>\n",
       "      <td>LUIZ CARLOS</td>\n",
       "      <td>PSDB</td>\n",
       "      <td>NÃO ELEITO</td>\n",
       "      <td>11981</td>\n",
       "    </tr>\n",
       "    <tr>\n",
       "      <th>10107</th>\n",
       "      <td>ELEIÇÕES GERAIS ESTADUAIS 2022</td>\n",
       "      <td>MG</td>\n",
       "      <td>Deputado Federal</td>\n",
       "      <td>LUIZ CARLOS</td>\n",
       "      <td>UNIÃO</td>\n",
       "      <td>SUPLENTE</td>\n",
       "      <td>2098</td>\n",
       "    </tr>\n",
       "    <tr>\n",
       "      <th>10775</th>\n",
       "      <td>ELEIÇÕES GERAIS ESTADUAIS 2022</td>\n",
       "      <td>MS</td>\n",
       "      <td>Deputado Estadual</td>\n",
       "      <td>LUIZ CARLOS</td>\n",
       "      <td>PSDB</td>\n",
       "      <td>SUPLENTE</td>\n",
       "      <td>89</td>\n",
       "    </tr>\n",
       "    <tr>\n",
       "      <th>11476</th>\n",
       "      <td>ELEIÇÕES GERAIS ESTADUAIS 2022</td>\n",
       "      <td>MT</td>\n",
       "      <td>Deputado Federal</td>\n",
       "      <td>LUIZ CARLOS</td>\n",
       "      <td>AGIR</td>\n",
       "      <td>NÃO ELEITO</td>\n",
       "      <td>230</td>\n",
       "    </tr>\n",
       "    <tr>\n",
       "      <th>13429</th>\n",
       "      <td>ELEIÇÕES GERAIS ESTADUAIS 2022</td>\n",
       "      <td>PE</td>\n",
       "      <td>Deputado Estadual</td>\n",
       "      <td>LUIZ CARLOS</td>\n",
       "      <td>UNIÃO</td>\n",
       "      <td>SUPLENTE</td>\n",
       "      <td>2165</td>\n",
       "    </tr>\n",
       "    <tr>\n",
       "      <th>19834</th>\n",
       "      <td>ELEIÇÕES GERAIS ESTADUAIS 2022</td>\n",
       "      <td>RR</td>\n",
       "      <td>Deputado Estadual</td>\n",
       "      <td>LUIZ CARLOS</td>\n",
       "      <td>PDT</td>\n",
       "      <td>NÃO ELEITO</td>\n",
       "      <td>17</td>\n",
       "    </tr>\n",
       "  </tbody>\n",
       "</table>\n",
       "</div>"
      ],
      "text/plain": [
       "                           DS_ELEICAO SG_UF           DS_CARGO  \\\n",
       "2211   ELEIÇÕES GERAIS ESTADUAIS 2022    AP   Deputado Federal   \n",
       "10107  ELEIÇÕES GERAIS ESTADUAIS 2022    MG   Deputado Federal   \n",
       "10775  ELEIÇÕES GERAIS ESTADUAIS 2022    MS  Deputado Estadual   \n",
       "11476  ELEIÇÕES GERAIS ESTADUAIS 2022    MT   Deputado Federal   \n",
       "13429  ELEIÇÕES GERAIS ESTADUAIS 2022    PE  Deputado Estadual   \n",
       "19834  ELEIÇÕES GERAIS ESTADUAIS 2022    RR  Deputado Estadual   \n",
       "\n",
       "      NM_URNA_CANDIDATO SG_PARTIDO DS_SIT_TOT_TURNO  QT_VOTOS_NOMINAIS_VALIDOS  \n",
       "2211        LUIZ CARLOS       PSDB       NÃO ELEITO                      11981  \n",
       "10107       LUIZ CARLOS      UNIÃO         SUPLENTE                       2098  \n",
       "10775       LUIZ CARLOS       PSDB         SUPLENTE                         89  \n",
       "11476       LUIZ CARLOS       AGIR       NÃO ELEITO                        230  \n",
       "13429       LUIZ CARLOS      UNIÃO         SUPLENTE                       2165  \n",
       "19834       LUIZ CARLOS        PDT       NÃO ELEITO                         17  "
      ]
     },
     "execution_count": 59,
     "metadata": {},
     "output_type": "execute_result"
    }
   ],
   "source": [
    "candidados_sem_presidente.query('NM_URNA_CANDIDATO == \"LUIZ CARLOS\"')"
   ]
  },
  {
   "cell_type": "code",
   "execution_count": 43,
   "metadata": {},
   "outputs": [
    {
     "data": {
      "text/plain": [
       "array(['ELEITO', 'NÃO ELEITO', 'ELEITO POR QP', 'SUPLENTE',\n",
       "       'ELEITO POR MÉDIA', '2º TURNO'], dtype=object)"
      ]
     },
     "execution_count": 43,
     "metadata": {},
     "output_type": "execute_result"
    }
   ],
   "source": [
    "candidados_sem_presidente['DS_SIT_TOT_TURNO'].unique()"
   ]
  },
  {
   "cell_type": "markdown",
   "metadata": {},
   "source": [
    "#### Por fim, somente uma checagem do número de eleitos para cada cargo no 1º turno, comparando com dados divulgadas em sites de notícias. Os números bateram."
   ]
  },
  {
   "cell_type": "code",
   "execution_count": 45,
   "metadata": {},
   "outputs": [
    {
     "data": {
      "text/plain": [
       "513"
      ]
     },
     "execution_count": 45,
     "metadata": {},
     "output_type": "execute_result"
    }
   ],
   "source": [
    "len(candidados_sem_presidente.query(\n",
    "    'DS_CARGO == \"Deputado Federal\" & (DS_SIT_TOT_TURNO == \"ELEITO\" | DS_SIT_TOT_TURNO == \"ELEITO POR QP\" | DS_SIT_TOT_TURNO == \"ELEITO POR MÉDIA\")'))"
   ]
  },
  {
   "cell_type": "code",
   "execution_count": 46,
   "metadata": {},
   "outputs": [
    {
     "data": {
      "text/plain": [
       "27"
      ]
     },
     "execution_count": 46,
     "metadata": {},
     "output_type": "execute_result"
    }
   ],
   "source": [
    "len(candidados_sem_presidente.query(\n",
    "    'DS_CARGO == \"Senador\" & (DS_SIT_TOT_TURNO == \"ELEITO\" | DS_SIT_TOT_TURNO == \"ELEITO POR QP\" | DS_SIT_TOT_TURNO == \"ELEITO POR MÉDIA\")'))"
   ]
  },
  {
   "cell_type": "code",
   "execution_count": 53,
   "metadata": {},
   "outputs": [
    {
     "data": {
      "text/plain": [
       "1035"
      ]
     },
     "execution_count": 53,
     "metadata": {},
     "output_type": "execute_result"
    }
   ],
   "source": [
    "len(dado_agrupados_por_nome.query(\n",
    "    'DS_CARGO == \"Deputado Estadual\" & (DS_SIT_TOT_TURNO == \"ELEITO\" | DS_SIT_TOT_TURNO == \"ELEITO POR QP\" | DS_SIT_TOT_TURNO == \"ELEITO POR MÉDIA\")'))"
   ]
  },
  {
   "cell_type": "code",
   "execution_count": 54,
   "metadata": {},
   "outputs": [
    {
     "data": {
      "text/plain": [
       "15"
      ]
     },
     "execution_count": 54,
     "metadata": {},
     "output_type": "execute_result"
    }
   ],
   "source": [
    "len(dado_agrupados_por_nome.query(\n",
    "    'DS_CARGO == \"Governador\" & (DS_SIT_TOT_TURNO == \"ELEITO\" | DS_SIT_TOT_TURNO == \"ELEITO POR QP\" | DS_SIT_TOT_TURNO == \"ELEITO POR MÉDIA\")'))"
   ]
  },
  {
   "cell_type": "markdown",
   "metadata": {},
   "source": [
    "#### Por fim, exportando a base de dados tratada, para futura análise."
   ]
  },
  {
   "cell_type": "code",
   "execution_count": 55,
   "metadata": {},
   "outputs": [],
   "source": [
    "dado_agrupados_por_nome.to_csv('dados_agrupados_por_nome.csv', index=False, encoding='latin-1', sep=';')"
   ]
  }
 ],
 "metadata": {
  "kernelspec": {
   "display_name": "Python 3.10.6 64-bit",
   "language": "python",
   "name": "python3"
  },
  "language_info": {
   "codemirror_mode": {
    "name": "ipython",
    "version": 3
   },
   "file_extension": ".py",
   "mimetype": "text/x-python",
   "name": "python",
   "nbconvert_exporter": "python",
   "pygments_lexer": "ipython3",
   "version": "3.10.6"
  },
  "orig_nbformat": 4,
  "vscode": {
   "interpreter": {
    "hash": "369f2c481f4da34e4445cda3fffd2e751bd1c4d706f27375911949ba6bb62e1c"
   }
  }
 },
 "nbformat": 4,
 "nbformat_minor": 2
}
